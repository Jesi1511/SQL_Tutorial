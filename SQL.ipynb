{
  "nbformat": 4,
  "nbformat_minor": 0,
  "metadata": {
    "colab": {
      "provenance": [],
      "include_colab_link": true
    },
    "kernelspec": {
      "name": "python3",
      "display_name": "Python 3"
    },
    "language_info": {
      "name": "python"
    }
  },
  "cells": [
    {
      "cell_type": "markdown",
      "metadata": {
        "id": "view-in-github",
        "colab_type": "text"
      },
      "source": [
        "<a href=\"https://colab.research.google.com/github/Jesi1511/Jesi1511/blob/main/SQL.ipynb\" target=\"_parent\"><img src=\"https://colab.research.google.com/assets/colab-badge.svg\" alt=\"Open In Colab\"/></a>"
      ]
    },
    {
      "cell_type": "code",
      "source": [
        "# Import library\n",
        "import sqlite3\n",
        "\n",
        "# Connect to an SQLite database; use ':memory:' for an in-memory database\n",
        "con = sqlite3.connect(':memory:')"
      ],
      "metadata": {
        "id": "_N4T9OXiJFul"
      },
      "execution_count": null,
      "outputs": []
    },
    {
      "cell_type": "code",
      "source": [
        "# Execute a SQL command to create a new table\n",
        "c = con.cursor()\n",
        "c.execute('''\n",
        "          CREATE TABLE stocks\n",
        "          (date text, trans text, symbol text, qty real, price real)\n",
        "          ''')"
      ],
      "metadata": {
        "colab": {
          "base_uri": "https://localhost:8080/"
        },
        "id": "RrsG6sBYITT-",
        "outputId": "a4801007-e41b-4716-df41-f020c144875d"
      },
      "execution_count": null,
      "outputs": [
        {
          "output_type": "execute_result",
          "data": {
            "text/plain": [
              "<sqlite3.Cursor at 0x783b775684c0>"
            ]
          },
          "metadata": {},
          "execution_count": 2
        }
      ]
    },
    {
      "cell_type": "code",
      "source": [
        "# Execute a SQL command to insert data into the table\n",
        "c.execute(\"INSERT INTO stocks VALUES ('2006-01-05','BUY','ABC',100,35.14)\")\n",
        "\n",
        "# Commit the transaction to save changes to the database\n",
        "con.commit()"
      ],
      "metadata": {
        "id": "9IMI-bAAIbks"
      },
      "execution_count": null,
      "outputs": []
    },
    {
      "cell_type": "code",
      "source": [
        "# Execute a SQL SELECT statement to query the database\n",
        "c.execute(\"SELECT * FROM stocks WHERE trans='BUY'\")\n",
        "\n",
        "# Fetch all rows from the result of the query\n",
        "print(c.fetchall())"
      ],
      "metadata": {
        "colab": {
          "base_uri": "https://localhost:8080/"
        },
        "id": "ZpGloho8IjI6",
        "outputId": "bf7a70e3-47b4-422c-df33-1b9766216509"
      },
      "execution_count": null,
      "outputs": [
        {
          "output_type": "stream",
          "name": "stdout",
          "text": [
            "[('2006-01-05', 'BUY', 'ABC', 100.0, 35.14)]\n"
          ]
        }
      ]
    },
    {
      "cell_type": "code",
      "source": [
        "# Execute a SQL command to create a new table\n",
        "c = con.cursor()\n",
        "c.execute('''create table Student(ID INTEGER PRIMARY KEY,NAME TEXT NOT NULL,EMAIL TEXT,MARKS FLOAT);\n",
        "''')"
      ],
      "metadata": {
        "colab": {
          "base_uri": "https://localhost:8080/"
        },
        "id": "3SQp6xrz1AuJ",
        "outputId": "36a6d66d-0fee-433b-a4e0-a78327f8743c"
      },
      "execution_count": null,
      "outputs": [
        {
          "output_type": "execute_result",
          "data": {
            "text/plain": [
              "<sqlite3.Cursor at 0x783b77568540>"
            ]
          },
          "metadata": {},
          "execution_count": 5
        }
      ]
    },
    {
      "cell_type": "code",
      "source": [
        "c.execute('''\n",
        "INSERT INTO STUDENT values (1,'Shweta','shweta@gmail.com',80),\n",
        "(2,'Yamini','rani@gmail.com', 60),\n",
        "(3,'Sonal','sonal@gmail.com', 50),\n",
        "(4,'Jagruti','jagu@gmail.com', 30);''')\n",
        "con.commit()"
      ],
      "metadata": {
        "id": "0f9PglIN1ocs"
      },
      "execution_count": null,
      "outputs": []
    },
    {
      "cell_type": "code",
      "source": [
        "c.execute('''select * from STUDENT''')"
      ],
      "metadata": {
        "colab": {
          "base_uri": "https://localhost:8080/"
        },
        "id": "evXD-Ygho9wg",
        "outputId": "cf8676fc-b326-444e-88a4-11e129b0941d"
      },
      "execution_count": null,
      "outputs": [
        {
          "output_type": "execute_result",
          "data": {
            "text/plain": [
              "<sqlite3.Cursor at 0x783b77568540>"
            ]
          },
          "metadata": {},
          "execution_count": 7
        }
      ]
    },
    {
      "cell_type": "code",
      "source": [
        "print(c.fetchall())"
      ],
      "metadata": {
        "colab": {
          "base_uri": "https://localhost:8080/"
        },
        "id": "RB7OJ8kDpFvt",
        "outputId": "479b02d0-9340-4e08-b6a2-f39341165b38"
      },
      "execution_count": null,
      "outputs": [
        {
          "output_type": "stream",
          "name": "stdout",
          "text": [
            "[(1, 'Shweta', 'shweta@gmail.com', 80.0), (2, 'Yamini', 'rani@gmail.com', 60.0), (3, 'Sonal', 'sonal@gmail.com', 50.0), (4, 'Jagruti', 'jagu@gmail.com', 30.0)]\n"
          ]
        }
      ]
    },
    {
      "cell_type": "code",
      "source": [
        "c.execute('''SELECT ID, NAME, MARKS,\n",
        "CASE\n",
        "WHEN MARKS >=80 THEN 'A+'\n",
        "WHEN MARKS >=70 THEN 'A'\n",
        "WHEN MARKS >=60 THEN 'B'\n",
        "WHEN MARKS >=50 THEN 'C'\n",
        "ELSE 'Sorry!! Failed'\n",
        "END as 'Grade'\n",
        "FROM STUDENT;''')\n",
        "print(c.fetchall())"
      ],
      "metadata": {
        "colab": {
          "base_uri": "https://localhost:8080/"
        },
        "id": "gD7WPgkSuTHo",
        "outputId": "ccb788ce-bd3e-475e-d2b2-1765c74721e8"
      },
      "execution_count": null,
      "outputs": [
        {
          "output_type": "stream",
          "name": "stdout",
          "text": [
            "[(1, 'Shweta', 80.0, 'A+'), (2, 'Yamini', 60.0, 'B'), (3, 'Sonal', 50.0, 'C'), (4, 'Jagruti', 30.0, 'Sorry!! Failed')]\n"
          ]
        }
      ]
    },
    {
      "cell_type": "code",
      "source": [
        "c.execute('''CREATE TABLE Person\n",
        "(SSID INTEGER PRIMARY KEY,\n",
        "first_name TEXT NOT NULL,\n",
        "last_name TEXT NOT NULL,\n",
        "email TEXT,\n",
        "phone_no TEXT,\n",
        "city TEXT);''')"
      ],
      "metadata": {
        "colab": {
          "base_uri": "https://localhost:8080/"
        },
        "id": "nGJ9ysQFuS42",
        "outputId": "96e10200-1edc-4c70-c877-1b5e8c084a73"
      },
      "execution_count": null,
      "outputs": [
        {
          "output_type": "execute_result",
          "data": {
            "text/plain": [
              "<sqlite3.Cursor at 0x783b77568540>"
            ]
          },
          "metadata": {},
          "execution_count": 10
        }
      ]
    },
    {
      "cell_type": "code",
      "source": [
        "c.execute('''INSERT INTO Person\n",
        "values (1,'Vinay','Jariwala','vinay@gmail.com','898545','Vapi'),\n",
        "(2,'Shweta','Rana','Shweta@gmail.com','888875','Valsad'),\n",
        "(3,'Sonal','Menpara','Sonal@gmail.com','84697','Surat'),\n",
        "(4,'Jagruti','Viras','jagu@gmail.com','656454','Daman'),\n",
        "(5,'Yamini','Patel','rani@gmail.com','98788','Mumbai');''')"
      ],
      "metadata": {
        "colab": {
          "base_uri": "https://localhost:8080/"
        },
        "id": "7AG3DY0I3Xti",
        "outputId": "98435cf1-6f4e-4f34-8d74-bc5edb0287c3"
      },
      "execution_count": null,
      "outputs": [
        {
          "output_type": "execute_result",
          "data": {
            "text/plain": [
              "<sqlite3.Cursor at 0x783b77568540>"
            ]
          },
          "metadata": {},
          "execution_count": 11
        }
      ]
    },
    {
      "cell_type": "code",
      "source": [
        "c.execute('''INSERT INTO Person (SSID,first_name,last_name,email,city)\n",
        "Values (6,'Yami','Patel','yamini@gmail.com','Surat'),\n",
        "(7,'Jagruti','Viras','jagu@gmail.com','Daman'),\n",
        "(8,'Yaaami','Paaatel','yaaaamini@gmail.com','Suraaat');''')"
      ],
      "metadata": {
        "colab": {
          "base_uri": "https://localhost:8080/"
        },
        "id": "K7HIzHwm3XqE",
        "outputId": "017d322a-6bdc-4394-83aa-0b93cb811d8c"
      },
      "execution_count": null,
      "outputs": [
        {
          "output_type": "execute_result",
          "data": {
            "text/plain": [
              "<sqlite3.Cursor at 0x783b77568540>"
            ]
          },
          "metadata": {},
          "execution_count": 12
        }
      ]
    },
    {
      "cell_type": "code",
      "source": [
        "c.execute('''SELECT * FROM Person;''')\n",
        "print(c.fetchall())"
      ],
      "metadata": {
        "colab": {
          "base_uri": "https://localhost:8080/"
        },
        "id": "HZbFM2YY3XnF",
        "outputId": "b9492aea-432a-42cc-c3f4-06a05ff47cd1"
      },
      "execution_count": null,
      "outputs": [
        {
          "output_type": "stream",
          "name": "stdout",
          "text": [
            "[(1, 'Vinay', 'Jariwala', 'vinay@gmail.com', '898545', 'Vapi'), (2, 'Shweta', 'Rana', 'Shweta@gmail.com', '888875', 'Valsad'), (3, 'Sonal', 'Menpara', 'Sonal@gmail.com', '84697', 'Surat'), (4, 'Jagruti', 'Viras', 'jagu@gmail.com', '656454', 'Daman'), (5, 'Yamini', 'Patel', 'rani@gmail.com', '98788', 'Mumbai'), (6, 'Yami', 'Patel', 'yamini@gmail.com', None, 'Surat'), (7, 'Jagruti', 'Viras', 'jagu@gmail.com', None, 'Daman'), (8, 'Yaaami', 'Paaatel', 'yaaaamini@gmail.com', None, 'Suraaat')]\n"
          ]
        }
      ]
    },
    {
      "cell_type": "code",
      "source": [
        "c.execute('''SELECT * FROM Person WHERE phone_no IS NULL;''')\n",
        "print(c.fetchall())"
      ],
      "metadata": {
        "colab": {
          "base_uri": "https://localhost:8080/"
        },
        "id": "DBi1BhFO3XkT",
        "outputId": "f3333c87-acec-4c00-c006-1375b734c094"
      },
      "execution_count": null,
      "outputs": [
        {
          "output_type": "stream",
          "name": "stdout",
          "text": [
            "[(6, 'Yami', 'Patel', 'yamini@gmail.com', None, 'Surat'), (7, 'Jagruti', 'Viras', 'jagu@gmail.com', None, 'Daman'), (8, 'Yaaami', 'Paaatel', 'yaaaamini@gmail.com', None, 'Suraaat')]\n"
          ]
        }
      ]
    },
    {
      "cell_type": "code",
      "source": [
        "c.execute('''SELECT * FROM Person WHERE phone_no IS not NULL;''')\n",
        "print(c.fetchall())"
      ],
      "metadata": {
        "id": "O3LIBNuS3XhS",
        "colab": {
          "base_uri": "https://localhost:8080/"
        },
        "outputId": "6d103fb7-1613-4dff-bd0c-495785d7e327"
      },
      "execution_count": null,
      "outputs": [
        {
          "output_type": "stream",
          "name": "stdout",
          "text": [
            "[(1, 'Vinay', 'Jariwala', 'vinay@gmail.com', '898545', 'Vapi'), (2, 'Shweta', 'Rana', 'Shweta@gmail.com', '888875', 'Valsad'), (3, 'Sonal', 'Menpara', 'Sonal@gmail.com', '84697', 'Surat'), (4, 'Jagruti', 'Viras', 'jagu@gmail.com', '656454', 'Daman'), (5, 'Yamini', 'Patel', 'rani@gmail.com', '98788', 'Mumbai')]\n"
          ]
        }
      ]
    },
    {
      "cell_type": "code",
      "source": [],
      "metadata": {
        "id": "zVx_Ud0f3Xd3"
      },
      "execution_count": null,
      "outputs": []
    }
  ]
}