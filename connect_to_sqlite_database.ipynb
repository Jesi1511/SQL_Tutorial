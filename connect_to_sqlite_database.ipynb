{
  "nbformat": 4,
  "nbformat_minor": 0,
  "metadata": {
    "colab": {
      "provenance": [],
      "include_colab_link": true
    },
    "kernelspec": {
      "name": "python3",
      "display_name": "Python 3"
    },
    "language_info": {
      "name": "python"
    }
  },
  "cells": [
    {
      "cell_type": "markdown",
      "metadata": {
        "id": "view-in-github",
        "colab_type": "text"
      },
      "source": [
        "<a href=\"https://colab.research.google.com/github/Jesi1511/Jesi1511/blob/main/connect_to_sqlite_database.ipynb\" target=\"_parent\"><img src=\"https://colab.research.google.com/assets/colab-badge.svg\" alt=\"Open In Colab\"/></a>"
      ]
    },
    {
      "cell_type": "markdown",
      "source": [
        "Connecting Python To Databases Via Google Colaboratory (Colab)\n",
        "Using Cursor Object and Panda DataFrame to work with POSTGRESQL, MYSQL/MARIADB, MS SQL and SQLITE data sources\n"
      ],
      "metadata": {
        "id": "ZVVE9gJw2Z-2"
      }
    },
    {
      "cell_type": "markdown",
      "source": [
        "# SQLITE"
      ],
      "metadata": {
        "id": "1urbSNcjmdbe"
      }
    },
    {
      "cell_type": "markdown",
      "source": [
        "##Download remote sqlite db file"
      ],
      "metadata": {
        "id": "fZuG9uSKNgfN"
      }
    },
    {
      "cell_type": "code",
      "source": [
        "file_url='https://www.dropbox.com/s/a2wax843eniq12g/flights.db'\n",
        "file_name=file_url.split('/')[-1]\n",
        "!wget {file_url}"
      ],
      "metadata": {
        "id": "TFhpEpTOKtyi"
      },
      "execution_count": null,
      "outputs": []
    },
    {
      "cell_type": "code",
      "source": [
        "import sqlite3\n",
        "lt_conn = sqlite3.connect(file_name)"
      ],
      "metadata": {
        "id": "ihUwj0U1g359"
      },
      "execution_count": null,
      "outputs": []
    },
    {
      "cell_type": "markdown",
      "source": [
        "##Use Cursor Object to manipulate database"
      ],
      "metadata": {
        "id": "w1Y_ZqYlLT55"
      }
    },
    {
      "cell_type": "code",
      "source": [
        "import sqlite3\n",
        "lt_conn = sqlite3.connect(file_name)\n",
        "db_cursor = lt_conn.cursor()\n",
        "db_cursor.execute(\"select * from airlines limit 5;\")\n",
        "for row in db_cursor:\n",
        "  print(row)\n",
        "db_cursor.close()\n",
        "db_cursor.close()"
      ],
      "metadata": {
        "id": "HmIDJqk1hMvO"
      },
      "execution_count": null,
      "outputs": []
    },
    {
      "cell_type": "markdown",
      "source": [
        "## Connecting to sqlite db file in google drive"
      ],
      "metadata": {
        "id": "ctgQNn9PLXoy"
      }
    },
    {
      "cell_type": "code",
      "source": [
        "from google.colab import drive\n",
        "drive.mount('/content/drive')"
      ],
      "metadata": {
        "id": "64nvH-ZDM7QS"
      },
      "execution_count": null,
      "outputs": []
    },
    {
      "cell_type": "code",
      "source": [
        "gdrv_file='/content/flights.db'"
      ],
      "metadata": {
        "id": "IUzUZKru5I_x"
      },
      "execution_count": null,
      "outputs": []
    },
    {
      "cell_type": "code",
      "source": [
        "import sqlite3\n",
        "lt_conn = sqlite3.connect(gdrv_file)\n",
        "db_cursor = lt_conn.cursor()\n",
        "db_cursor.execute(\"select * from airlines limit 5;\")\n",
        "db_rows = db_cursor.fetchall()\n",
        "print(db_rows[0])\n",
        "db_cursor.close()\n",
        "lt_conn.close()"
      ],
      "metadata": {
        "id": "r85j3jlUhl42"
      },
      "execution_count": null,
      "outputs": []
    },
    {
      "cell_type": "markdown",
      "source": [
        "# Using Pandas DataFrame to manipulate database"
      ],
      "metadata": {
        "id": "1xCOHG4ob_GK"
      }
    },
    {
      "cell_type": "code",
      "source": [
        "import sqlite3\n",
        "import pandas as pd\n",
        "lt_conn = sqlite3.connect(gdrv_file)\n",
        "db_query = pd.read_sql_query('''select * from airlines limit 5;''', lt_conn)\n",
        "df = pd.DataFrame(db_query)\n",
        "lt_conn.close()\n",
        "df"
      ],
      "metadata": {
        "id": "chjBv8S3h1co"
      },
      "execution_count": null,
      "outputs": []
    }
  ]
}